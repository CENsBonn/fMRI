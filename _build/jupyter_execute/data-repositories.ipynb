{
 "cells": [
  {
   "cell_type": "markdown",
   "id": "853cec6c",
   "metadata": {},
   "source": [
    "# Where can I get data?\n",
    "\n",
    "Thanks to the formation of common data acquisition projects and the \n",
    "popularization of data sharing through repositories, more and more high-quality \n",
    "datasets can be accessed online.\n",
    "\n",
    "```{Note}\n",
    "data to download are often in BIDS format, which is explained here: https://bids.neuroimaging.io/\n",
    "````\n",
    "\n",
    "## Datasets and repositories:\n",
    "1. Human Connectome Project: https://www.humanconnectome.org/\n",
    "2. 7T dataset: http://naturalscenesdataset.org, paper: https://doi.org/10.1038/s41593-021-00962-x \n",
    "3. https://openneuro.org/\n",
    "4. https://neurovault.org/\n",
    "5. academictorrents: https://academictorrents.com/browse.php?search=fmri\n",
    "\n",
    "## Automated meta-analyses\n",
    "1. https://neurosynth.org/\n",
    "\n",
    "## A special kind of neuroimaging: people watching movies (naturalistic imaging)\n",
    "1. https://naturalistic-data.org"
   ]
  }
 ],
 "metadata": {
  "jupytext": {
   "formats": "md:myst",
   "text_representation": {
    "extension": ".md",
    "format_name": "myst",
    "format_version": 0.13,
    "jupytext_version": "1.11.5"
   }
  },
  "kernelspec": {
   "display_name": "Python 3",
   "language": "python",
   "name": "python3"
  },
  "language_info": {
   "codemirror_mode": {
    "name": "ipython",
    "version": 3
   },
   "file_extension": ".py",
   "mimetype": "text/x-python",
   "name": "python",
   "nbconvert_exporter": "python",
   "pygments_lexer": "ipython3",
   "version": "3.10.5"
  },
  "source_map": [
   13
  ]
 },
 "nbformat": 4,
 "nbformat_minor": 5
}