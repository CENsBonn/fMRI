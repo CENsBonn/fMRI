{
 "cells": [
  {
   "cell_type": "markdown",
   "id": "163183ba",
   "metadata": {},
   "source": [
    "# Why study neural mechanisms?\n",
    "\n",
    "Studying neural mechanisms is a complicated process, so we should know why we would want to do that and what the outcome could be useful for.\n",
    "\n",
    "## Curiosity!\n",
    "The first intrinsic motivation is because we might simply be curious as to how our brain manages to create our mind and control our behaviour.\n",
    "\n",
    "## Therapy / improvement\n",
    "Can help to find treatment of deficits, or improve life quality of healthy people. However, concrete evidence of that is still scarce at present.  \n",
    "\n",
    "### Examples:  \n",
    "- Medical diagnostics: [fMRI can be used to communicate with a patient in a vegetative state to determine their consciousness level](https://www.nejm.org/doi/full/10.1056/nejmoa0905370); [works with fNIRS as well](https://doi.org/10.1117/1.NPh.4.4.040501)\n",
    "- MRI can reveal evidence of neural plasticity in adults, such as: [increase in hippocampus volume due to navigation training in taxi drivers](https://doi.org/10.1073/pnas.070039597](https://doi.org/10.1073/pnas.070039597); [increase in hippocampus and dorsolateral prefrontal cortex volume, and changes in navigation strategy, after playing a video game for 2 months]([https://doi.org/10.1038/mp.2013.120](https://doi.org/10.1038/mp.2013.120). [However, a recent randomized control study showed no significant change in gray matter as a result of an 8-week mindfulness training](https://www.science.org/doi/full/10.1126/sciadv.abk3316)\n",
    "- While [neuroimaging cannot help to diagnose classically-defined psychiatric diseases](https://doi.org/10.1176/appi.ajp.2018.1750701), it can help the differential diagnosis by [excluding potential causes of psychiatric symptoms](https://doi.org/10.3389/fpsyt.2020.00276)\n",
    "\n",
    "### Short-term\n",
    "Neuroimaging can support psychotherapeutic interventions through neurofeedback; for example, [people can learn to modulate the response in their amygdala through neurofeedback](https://doi.org/10.1016/j.neubiorev.2022.104694). Whether neurofeedback really improves the impact of psychotherapeutic interventions appears however to still be unknown.\n",
    "\n",
    "### Long-term\n",
    "1. development of new drugs\n",
    "→ measure of pharmacokinetics and pharmacodynamics → changed fMRI after drug intervention"
   ]
  }
 ],
 "metadata": {
  "jupytext": {
   "formats": "md:myst",
   "text_representation": {
    "extension": ".md",
    "format_name": "myst",
    "format_version": 0.13,
    "jupytext_version": "1.11.5"
   }
  },
  "kernelspec": {
   "display_name": "Python 3",
   "language": "python",
   "name": "python3"
  },
  "language_info": {
   "codemirror_mode": {
    "name": "ipython",
    "version": 3
   },
   "file_extension": ".py",
   "mimetype": "text/x-python",
   "name": "python",
   "nbconvert_exporter": "python",
   "pygments_lexer": "ipython3",
   "version": "3.10.5"
  },
  "source_map": [
   13
  ]
 },
 "nbformat": 4,
 "nbformat_minor": 5
}