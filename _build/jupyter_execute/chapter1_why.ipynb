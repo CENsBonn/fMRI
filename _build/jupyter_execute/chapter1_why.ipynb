{
 "cells": [
  {
   "cell_type": "markdown",
   "id": "68c97384",
   "metadata": {},
   "source": [
    "# Why study neural mechanisms?\n",
    "\n",
    "Studying neural mechanisms is a complicated process, so we should know why we would want to do that and what the outcome could be useful for.\n",
    "\n",
    "## Curiosity!\n",
    "The first intrinsic motivation is that we might simply be curious as to how our brain creates our mind and controls our behaviour. One random example: one can [reconstruct the images that people saw from their BOLD signal](https://www.biorxiv.org/content/10.1101/2022.11.18.517004v2.full.pdf).\n",
    "\n",
    "## Therapy / improvement\n",
    "Knowing about the neural mechanisms underlying a process can help to find treatment of deficits in this process, or improve performance of this process in healthy people. For example: *Role of serotonine in depression? Disturbed mechanisms of reward processing in depression?*  \n",
    "\n",
    "Neuroimaging could also help in the development of new drugs, by providing evidence about the pharmacokinetics and pharmacodynamics of a specific drug or substance, such as [oxytocin](https://doi.org/10.1016/j.biopsych.2017.04.015).\n",
    "\n",
    "## Assistance in diagnostics\n",
    "Another use of measurements of neural mechanisms could be assistance in diagnostic procedures. For example,  [fMRI can be used to communicate with a patient in a vegetative state to determine their consciousness level](https://www.nejm.org/doi/full/10.1056/nejmoa0905370); [this is possible with fNIRS as well](https://doi.org/10.1117/1.NPh.4.4.040501).  \n",
    "\n",
    "[While neuroimaging cannot help to diagnose classically-defined psychiatric diseases](https://doi.org/10.1176/appi.ajp.2018.1750701), it can help the differential diagnosis by [excluding potential causes of psychiatric symptoms](https://doi.org/10.3389/fpsyt.2020.00276)\n",
    "\n",
    "## Evidence of plasticity\n",
    "One finding that appeared in the last decades is that even the adult brain is plastic. Thus, what we do with our brains can lead to structural changes. Data demonstrating this fact might encourage people to follow mental training programs that reduce the impact of aging, for example. For example: [Spatial expertise in taxi drivers is associated with differences in hippocampal gray matter volume relative to controls](https://doi.org/10.1073/pnas.070039597); [Hippocampus and dorsolateral prefrontal cortex increase in volume, and navigation strategy changes, after playing a video game for 2 months](https://doi.org/10.1038/mp.2013.120). However, [a recent randomized control trial revealed no significant changes in gray matter after an 8-week mindfulness training](https://www.science.org/doi/full/10.1126/sciadv.abk3316).\n",
    "\n",
    "## Assistance in therapy\n",
    "Neuroimaging can support psychotherapeutic interventions through neurofeedback; for example, [people can learn to modulate the response in their amygdala through neurofeedback](https://doi.org/10.1016/j.neubiorev.2022.104694). Whether neurofeedback really improves the impact of psychotherapeutic interventions appears however to still be unknown."
   ]
  }
 ],
 "metadata": {
  "jupytext": {
   "formats": "md:myst",
   "text_representation": {
    "extension": ".md",
    "format_name": "myst",
    "format_version": 0.13,
    "jupytext_version": "1.11.5"
   }
  },
  "kernelspec": {
   "display_name": "Python 3",
   "language": "python",
   "name": "python3"
  },
  "language_info": {
   "codemirror_mode": {
    "name": "ipython",
    "version": 3
   },
   "file_extension": ".py",
   "mimetype": "text/x-python",
   "name": "python",
   "nbconvert_exporter": "python",
   "pygments_lexer": "ipython3",
   "version": "3.9.13"
  },
  "source_map": [
   13
  ]
 },
 "nbformat": 4,
 "nbformat_minor": 5
}