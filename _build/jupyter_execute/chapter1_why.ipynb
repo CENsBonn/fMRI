{
 "cells": [
  {
   "cell_type": "markdown",
   "id": "e7b47324",
   "metadata": {},
   "source": [
    "# Why study neural mechanisms?\n",
    "\n",
    "Studying neural mechanisms is a complicated process, so we should know why we would want to do that and what the outcome could be useful for.\n",
    "\n",
    "## Curiosity!\n",
    "The first intrinsic motivation is because we might simply be curious as to how our brain manages to create our mind and control our behaviour.\n",
    "\n",
    "## Therapy / improvement\n",
    "Can help to find treatment of deficits, or improve life quality of healthy people.\n",
    "\n",
    "### Examples:  \n",
    "- Medical diagnostics: communication with lock-in patient to determine consciousness  \n",
    "- Neural plasticity: taxi drivers; meditation->DSL PFC act increase -> explains why TMS works   \n",
    "- Help to choose medication (?)  \n",
    "\n",
    "### Short-term\n",
    "support of psychotherapeutic interventions (neurofeedback)\n",
    "\n",
    "### Long-term\n",
    "1. development of new drugs\n",
    "→ measure of pharmacokinetics and pharmacodynamics → changed fMRI after drug intervention"
   ]
  }
 ],
 "metadata": {
  "jupytext": {
   "formats": "md:myst",
   "text_representation": {
    "extension": ".md",
    "format_name": "myst",
    "format_version": 0.13,
    "jupytext_version": "1.11.5"
   }
  },
  "kernelspec": {
   "display_name": "Python 3",
   "language": "python",
   "name": "python3"
  },
  "language_info": {
   "codemirror_mode": {
    "name": "ipython",
    "version": 3
   },
   "file_extension": ".py",
   "mimetype": "text/x-python",
   "name": "python",
   "nbconvert_exporter": "python",
   "pygments_lexer": "ipython3",
   "version": "3.9.13"
  },
  "source_map": [
   13
  ]
 },
 "nbformat": 4,
 "nbformat_minor": 5
}