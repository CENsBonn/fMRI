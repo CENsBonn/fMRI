{
 "cells": [
  {
   "cell_type": "markdown",
   "id": "fc391e8b",
   "metadata": {},
   "source": [
    "# Why study neural mechanisms, and if we want to, how can we do that?\n",
    "\n",
    "## Why study neural mechanisms?\n",
    "Studying neural mechanisms is a complicated process, so we should know why we would want to do that and what the outcome could be useful for.\n",
    "\n",
    "### Curiosity!\n",
    "The first intrinsic motivation is because we might simply be curious as to how our brain manages to create our mind and control our behaviour.\n",
    "\n",
    "### Therapy / improvement\n",
    "Can help to find treatment of deficits, or improve life quality of healthy people.\n",
    "\n",
    "#### Examples:  \n",
    "- Medical diagnostics: communication with lock-in patient to determine consciousness  \n",
    "- Neural plasticity: taxi drivers; meditation->DSL PFC act increase -> explains why TMS works   \n",
    "- Help to choose medication (?)  \n",
    "\n",
    "\n",
    "\n",
    "#### Short-term\n",
    "support of psychotherapeutic interventions (neurofeedback)\n",
    "\n",
    "#### Long-term\n",
    "1. development of new drugs\n",
    "→ measure of pharmacokinetics and pharmacodynamics → changed fMRI after drug intervention\n",
    "\n",
    "## How can we study neural mechanisms?\n",
    "Many methods have been used to investigate brain functions. Starting from studies \n",
    "of the effects of human brain lesions resulting from accidents, war injuries or \n",
    "stroke, techniques have multiplied and increased in sophistication.\n",
    "\n",
    "### Measurement of brain activity\n",
    "These techniques record some measure of brain activity or a derivate measure, \n",
    "but do not allow to modify this activity.\n",
    "\n",
    "#### Electric signals\n",
    "Neurons communicate by sending electric signals, so recording electric activity\n",
    "allows to obtain detailed information about what neurons respond to.  \n",
    "1. Patch-clamp recording  \n",
    "2. Single unit recordings  \n",
    "3. Electrophysiological recordings  \n",
    "4. Calcium imaging, incl. 2-photon imaging  \n",
    "5. Local field potential recordings (extracellular)  \n",
    "6. EEG  \n",
    "7. MEG\n",
    "\n",
    "#### Metabolic signals\n",
    "These techniques collect indirect measures of brain activity, such as its metabolic consequences.  \n",
    "1. PET  \n",
    "2. fMRI (note: different applications of MRI allow to measure other things than brain activity: DTI, DWI, spectroscopy)  \n",
    "3. fNIRS  \n",
    "4. Functional ultrasound  \n",
    "\n",
    "### Influencing brain activity\n",
    "These techniques allow to modify brain activity.  \n",
    "1. TMS  \n",
    "2. Optogenetics  \n",
    "3. Cooling  \n",
    "4. Muscimol"
   ]
  }
 ],
 "metadata": {
  "jupytext": {
   "formats": "md:myst",
   "text_representation": {
    "extension": ".md",
    "format_name": "myst",
    "format_version": 0.13,
    "jupytext_version": "1.11.5"
   }
  },
  "kernelspec": {
   "display_name": "Python 3",
   "language": "python",
   "name": "python3"
  },
  "language_info": {
   "codemirror_mode": {
    "name": "ipython",
    "version": 3
   },
   "file_extension": ".py",
   "mimetype": "text/x-python",
   "name": "python",
   "nbconvert_exporter": "python",
   "pygments_lexer": "ipython3",
   "version": "3.10.5"
  },
  "source_map": [
   13
  ]
 },
 "nbformat": 4,
 "nbformat_minor": 5
}